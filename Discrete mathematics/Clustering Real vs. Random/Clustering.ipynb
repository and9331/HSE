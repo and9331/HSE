{
 "cells": [
  {
   "cell_type": "code",
   "execution_count": 17,
   "metadata": {},
   "outputs": [],
   "source": [
    "import networkx as nx\n",
    "import random"
   ]
  },
  {
   "cell_type": "code",
   "execution_count": 6,
   "metadata": {},
   "outputs": [],
   "source": [
    "# Read data from the dataset, and create graph G_fb\n",
    "G_fb = nx.read_edgelist(\"facebook_combined.txt\", create_using = nx.Graph(), nodetype=int)"
   ]
  },
  {
   "cell_type": "code",
   "execution_count": 13,
   "metadata": {},
   "outputs": [
    {
     "name": "stdout",
     "output_type": "stream",
     "text": [
      "edges = 88234\n"
     ]
    }
   ],
   "source": [
    "# Show the number of edges in G_fb\n",
    "edges = G_fb.number_of_edges()\n",
    "print(f'edges = {edges}')"
   ]
  },
  {
   "cell_type": "code",
   "execution_count": 12,
   "metadata": {},
   "outputs": [
    {
     "name": "stdout",
     "output_type": "stream",
     "text": [
      "nodes = 4039\n"
     ]
    }
   ],
   "source": [
    "# Show number of nodes in G_fb\n",
    "nodes = G_fb.number_of_nodes()\n",
    "print(f'nodes = {nodes}')"
   ]
  },
  {
   "cell_type": "code",
   "execution_count": 14,
   "metadata": {},
   "outputs": [
    {
     "data": {
      "text/plain": [
       "0.010819963503439287"
      ]
     },
     "execution_count": 14,
     "metadata": {},
     "output_type": "execute_result"
    }
   ],
   "source": [
    "# TASK1. Now your task is to compute the probability whether there is an edge between two vertices.\n",
    "edge_probab = edges / (nodes * (nodes - 1) / 2)\n",
    "edge_probab"
   ]
  },
  {
   "cell_type": "code",
   "execution_count": 10,
   "metadata": {},
   "outputs": [
    {
     "data": {
      "text/plain": [
       "0.6055467186200876"
      ]
     },
     "execution_count": 10,
     "metadata": {},
     "output_type": "execute_result"
    }
   ],
   "source": [
    "# TASK2. Compute the ACC (average clustering coefficient) of G_fb\n",
    "# (consult the NetworkX manual or the video lecture for the correct function which does it)\n",
    "av_clust_coeff = nx.average_clustering(G_fb)\n",
    "av_clust_coeff"
   ]
  },
  {
   "cell_type": "code",
   "execution_count": 16,
   "metadata": {},
   "outputs": [],
   "source": [
    "\n",
    "# Now we have to generate a random graph. First we initialize it\n",
    "G_rand = nx.Graph()"
   ]
  },
  {
   "cell_type": "code",
   "execution_count": 18,
   "metadata": {},
   "outputs": [],
   "source": [
    "# TASK3. generate edges in G_rand at random:\n",
    "for i in range(0, nodes):\n",
    "    for j in range(0,i): \n",
    "        # Add an edge between vertices i and j, with probability edge_probab (as in G_fb)\n",
    "        prob = random.random()\n",
    "        if prob <= edge_probab:\n",
    "            G_rand.add_edge(i, j)"
   ]
  },
  {
   "cell_type": "code",
   "execution_count": 19,
   "metadata": {},
   "outputs": [
    {
     "name": "stdout",
     "output_type": "stream",
     "text": [
      "rgraph_edges = 88355\n"
     ]
    }
   ],
   "source": [
    "# Now we print out the number of edges and the ACC of the new graph\n",
    "rgraph_edges = G_rand.number_of_edges()\n",
    "print(f'rgraph_edges = {rgraph_edges}')"
   ]
  },
  {
   "cell_type": "code",
   "execution_count": 20,
   "metadata": {},
   "outputs": [
    {
     "name": "stdout",
     "output_type": "stream",
     "text": [
      "rgraph_acc = 0.010799327174848161\n"
     ]
    }
   ],
   "source": [
    "av_clust_coeff = nx.average_clustering(G_rand)\n",
    "\n",
    "print(f'rgraph_acc = {av_clust_coeff}')\n",
    "\n",
    "# The results which should be submitted to the grader include the ACC of G_fb and of G_rand. Good luck!\n"
   ]
  },
  {
   "cell_type": "code",
   "execution_count": 24,
   "metadata": {},
   "outputs": [
    {
     "name": "stdout",
     "output_type": "stream",
     "text": [
      "4039\n",
      "redge_prob = 0.010834801497680919\n"
     ]
    }
   ],
   "source": [
    "# just in case. checking the edge prob for random graph\n",
    "rgraph_nodes = G_rand.number_of_nodes()\n",
    "print(rgraph_nodes)\n",
    "redge_prob = rgraph_edges / (rgraph_nodes * (rgraph_nodes - 1) / 2)\n",
    "print(f'redge_prob = {redge_prob}')\n",
    "# compare to 0.010819963503439287"
   ]
  }
 ],
 "metadata": {
  "kernelspec": {
   "display_name": "Python 3",
   "language": "python",
   "name": "python3"
  },
  "language_info": {
   "codemirror_mode": {
    "name": "ipython",
    "version": 3
   },
   "file_extension": ".py",
   "mimetype": "text/x-python",
   "name": "python",
   "nbconvert_exporter": "python",
   "pygments_lexer": "ipython3",
   "version": "3.7.1"
  }
 },
 "nbformat": 4,
 "nbformat_minor": 2
}
