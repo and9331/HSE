{
  "nbformat": 4,
  "nbformat_minor": 0,
  "metadata": {
    "colab": {
      "provenance": [],
      "collapsed_sections": [
        "NadqUqLunyOm",
        "A_G94_CDpDBe",
        "n0huJqnwp1Jf",
        "w0DseiNtqP6N",
        "t38sYSpgq7Cr",
        "Q7QFuCmorY3K"
      ]
    },
    "kernelspec": {
      "name": "python3",
      "display_name": "Python 3"
    },
    "language_info": {
      "name": "python"
    }
  },
  "cells": [
    {
      "cell_type": "markdown",
      "source": [
        "# Python Basics. Final Project. The Game."
      ],
      "metadata": {
        "id": "EAqAwvnEgLMj"
      }
    },
    {
      "cell_type": "markdown",
      "source": [
        "Andrey Baranov. HSE University, Faculty of Computer Science"
      ],
      "metadata": {
        "id": "VO4iXqtCgMH4"
      }
    },
    {
      "cell_type": "markdown",
      "source": [
        "## \"Dungeon and Pythons\" game. The idea."
      ],
      "metadata": {
        "id": "4R3V7neBgm3Z"
      }
    },
    {
      "cell_type": "markdown",
      "source": [
        "The game represents a genre of simple fighting or 2D action. Gamefield is an imaginary dungeon in which the Hero and the Monster spawn on the left and right edges of a screen, respectively. Both hero and monster have stats, such as HP (a quantitative measure of \"life\"), damage (amount of the opponent's HP to be subtracted after the successful attack). Also, the hero has a defense number. It means when the hero is in defense positions, the amount of this parameter would be subtracted from the monster damage to the hero. If it's more, than monster damage, nothing happens, and the monster can't do any damage to the hero."
      ],
      "metadata": {
        "id": "jEfI2XBcgqAS"
      }
    },
    {
      "cell_type": "markdown",
      "source": [
        "The main purpose is to kill a monster, meaning do damage to it successfully enough times to make it zero. And in the process, to not have such damage yourself. The one whose HP will become zero first is considered killed. In that case, for the hero, the game is lost; otherwise, the player has won the game."
      ],
      "metadata": {
        "id": "uvSw47Ejipu2"
      }
    },
    {
      "cell_type": "markdown",
      "source": [
        "In pseudo-random order, the bottles of three different colors (red, blue, and yellow) are scattered across the gamefield. In the order that no bottle at the start of a game will collide with a monster or hero. Each bottle could be collected by the hero if he has touched it and has enough capacity left. The capacity is three bottles for the hero inventory. The hero cannot have any more bottles in the inventory while the old ones are still there."
      ],
      "metadata": {
        "id": "Iexmf1zhjqgy"
      }
    },
    {
      "cell_type": "markdown",
      "source": [
        "Bottles could be used by the hero to increase certain parameters, such as HP, damage, and defense numbers. Red for HP, blue for damage, and yellow for defense. When specified in the game help button is pressed on the keyboard, the effect will take place, and the bottle will be removed from the inventory and deleted from the current game session. The bottle effect is considered constant in terms of the current game, so the hero parameters would only increase after the use of bottles."
      ],
      "metadata": {
        "id": "gDtWHVCPkckF"
      }
    },
    {
      "cell_type": "markdown",
      "source": [
        "The basic parameters for the hero and the monster will change according to the difficulty level of the current game. The exclusion is the HP amount for both. But the hero could still get more than 100 HP after using the red \"health\" bottles. The game has three different difficulty levels that can be chosen from the main menu. When the difficulty level increases, the damage and defense parameters for the hero decrease, and the opposite is true for the monster."
      ],
      "metadata": {
        "id": "GK1Mr9yllJMi"
      }
    },
    {
      "cell_type": "markdown",
      "source": [
        "There are two classes for the hero type: warrior and archer. The warrior could only attack when faced with the monster. The archer can make distant attacks with the arrows. Also, they have different skins. The monster is always the same and can only attack. It tries to get closer to the position of the hero. And when it collides, it starts to attack automatically while this condition is held."
      ],
      "metadata": {
        "id": "mxFx_6g-mImY"
      }
    },
    {
      "cell_type": "markdown",
      "source": [
        "## Implementation"
      ],
      "metadata": {
        "id": "Lwtc9Hr3m5UY"
      }
    },
    {
      "cell_type": "markdown",
      "source": [
        "The game program uses the pygame module, version 2.4.0. It provides a graphical interface, draws objects on the screen, and has many ways to represent the game objects and their interactions. The implementation is based on the object-oriented programming paradigm. There are a few classes implementing the game itself, hero, monster, bottles, arrows, buttons and controls, and finally game settings."
      ],
      "metadata": {
        "id": "teNSB9dEm-lm"
      }
    },
    {
      "cell_type": "code",
      "source": [
        "# install specified package\n",
        "%pip install pygame==2.4.0"
      ],
      "metadata": {
        "colab": {
          "base_uri": "https://localhost:8080/"
        },
        "id": "sR20fUisogKX",
        "outputId": "e3878433-2d5a-4c9b-bada-473ea591a0cb"
      },
      "execution_count": 14,
      "outputs": [
        {
          "output_type": "stream",
          "name": "stdout",
          "text": [
            "Looking in indexes: https://pypi.org/simple, https://us-python.pkg.dev/colab-wheels/public/simple/\n",
            "Requirement already satisfied: pygame==2.4.0 in /usr/local/lib/python3.10/dist-packages (2.4.0)\n"
          ]
        }
      ]
    },
    {
      "cell_type": "code",
      "source": [
        "# import needed libraries\n",
        "import pygame\n",
        "from pygame.sprite import Sprite\n",
        "import sys\n",
        "import random"
      ],
      "metadata": {
        "id": "HlAUrv2cotpn"
      },
      "execution_count": 15,
      "outputs": []
    },
    {
      "cell_type": "markdown",
      "source": [
        "### Hero class"
      ],
      "metadata": {
        "id": "NadqUqLunyOm"
      }
    },
    {
      "cell_type": "markdown",
      "source": [
        "The first class is the one for the Hero. It has methods to initialize and show the hero on the screen. Attack the monster and defend from it. To move across the game screen. Also, methods to collect bottles on the gamefield, draw them in inventory on the screen, and use them"
      ],
      "metadata": {
        "id": "5lwVAGeon4Ye"
      }
    },
    {
      "cell_type": "code",
      "source": [
        "class Hero(Sprite):\n",
        "    \"\"\"Hero class\"\"\"\n",
        "\n",
        "    def __init__(self, dnp_game, hero_class='warrior') -> None:\n",
        "        \"\"\"\n",
        "            Initialize base parameters for the hero\n",
        "        \"\"\"\n",
        "        super().__init__()\n",
        "        self.screen = dnp_game.screen\n",
        "        self.screen_rect = dnp_game.screen.get_rect()\n",
        "        self.settings = dnp_game.settings\n",
        "\n",
        "        #  Load the hero image and get its rect.\n",
        "        if hero_class == 'warrior':\n",
        "            self.basic_image = pygame.image.load('images/hero.png')\n",
        "            self.image = self.basic_image\n",
        "            self.attack_image = pygame.image.load('images/hero_attacks.png')\n",
        "            self.defense_image = pygame.image.load('images/hero_defend.png')\n",
        "            self.lost_image = pygame.image.load('images/hero_lost.png')\n",
        "        elif hero_class == 'archer':\n",
        "            self.basic_image = pygame.image.load('images/archer.png')\n",
        "            self.image = self.basic_image\n",
        "            self.attack_image = pygame.image.load('images/archer_attacks.png')\n",
        "            self.defense_image = pygame.image.load('images/archer_defend.png')\n",
        "            self.lost_image = pygame.image.load('images/archer_lost.png')\n",
        "\n",
        "        # self.image = pygame.transform.scale(self.image, (60, 60))\n",
        "        self.rect = self.image.get_rect()\n",
        "\n",
        "        #  Start new hero at the left of the screen\n",
        "        self.rect.midleft = self.screen_rect.midleft\n",
        "\n",
        "        #  Store a decimal value for the hero's speed\n",
        "        self.x = float(self.rect.x)\n",
        "        self.y = float(self.rect.y)\n",
        "\n",
        "        # movement and defending flag\n",
        "        self.moving_right = False\n",
        "        self.moving_left = False\n",
        "        self.moving_up = False\n",
        "        self.moving_down = False\n",
        "        self.defending = False\n",
        "\n",
        "        # hero inventory bottles\n",
        "        self.hero_bottles = pygame.sprite.Group()\n",
        "        self.bottles_max = 3\n",
        "        self.hero_class = hero_class\n",
        "\n",
        "    def blitme(self):\n",
        "        \"\"\"\n",
        "            Draw the hero at its current location.\n",
        "        \"\"\"\n",
        "        self.screen.blit(self.image, self.rect)\n",
        "\n",
        "    def update(self):\n",
        "        \"\"\"\n",
        "            Update the hero's position based on movement flags.\n",
        "        \"\"\"\n",
        "        if self.moving_right and self.rect.right < self.screen_rect.right:\n",
        "            self.x += self.settings.hero_speed\n",
        "        elif self.moving_left and self.rect.left > 0:\n",
        "            self.x -= self.settings.hero_speed\n",
        "        elif self.moving_up and self.rect.top > 0:\n",
        "            self.y -= self.settings.hero_speed\n",
        "        elif self.moving_down and self.rect.bottom < self.screen_rect.bottom:\n",
        "            self.y += self.settings.hero_speed\n",
        "\n",
        "        #  Update rect\n",
        "        self.rect.x = self.x\n",
        "        self.rect.y = self.y\n",
        "\n",
        "    def attack(self, monster):\n",
        "        \"\"\"\n",
        "            When monster's sprite is collided\n",
        "            Does damage to the monster if hero is warrior\n",
        "            Else just changes the hero image\n",
        "        \"\"\"\n",
        "        # change image\n",
        "        self.image = self.attack_image\n",
        "        if self.hero_class == 'warrior':\n",
        "            # check if the monster nearby, calculate damage\n",
        "            if self.rect.colliderect(monster) and monster.settings.monster_hp > 0:\n",
        "                monster.settings.monster_hp -= self.settings.hero_damage\n",
        "            if monster.settings.monster_hp < 0:\n",
        "                monster.settings.monster_hp = 0\n",
        "\n",
        "    def attack_finished(self):\n",
        "        \"\"\"\n",
        "            Finishes attack\n",
        "            Return basic image\n",
        "        \"\"\"\n",
        "        self.image = self.basic_image\n",
        "\n",
        "    def defense(self):\n",
        "        \"\"\"\n",
        "            Set defending flag\n",
        "            And changes image\n",
        "        \"\"\"\n",
        "        self.image = self.defense_image\n",
        "        # only when defending defense points are applicable\n",
        "        self.defending = True\n",
        "\n",
        "    def defense_finished(self):\n",
        "        \"\"\"\n",
        "            Back to the normal image and False flag\n",
        "            when the defense is finished\n",
        "        \"\"\"\n",
        "        self.image = self.basic_image\n",
        "        self.defending = False\n",
        "\n",
        "    def check_bottle_col(self, dnp_game):\n",
        "        \"\"\"\n",
        "            Checks if hero collided with any bottle\n",
        "            Adds it to the hero inventory if it doesn't surpass max capacity\n",
        "        \"\"\"\n",
        "        if len(self.hero_bottles) < self.bottles_max \\\n",
        "                and pygame.sprite.spritecollideany(self, dnp_game.bottles):\n",
        "            collisions = pygame.sprite.spritecollide(self, dnp_game.bottles, True)\n",
        "            bottle_color = collisions.pop().color\n",
        "\n",
        "            hero_bottle = Bottle(self, bottle_color, size=(20, 30))\n",
        "            self.hero_bottles.add(hero_bottle)\n",
        "            self.draw_hero_bottles(dnp_game)\n",
        "\n",
        "    def draw_hero_bottles(self, dnp_game):\n",
        "        \"\"\"\n",
        "            Draws hero inventory bottles\n",
        "        \"\"\"\n",
        "        count = 1\n",
        "        for bottle in self.hero_bottles:\n",
        "            bottle.rect.top = dnp_game.screen.get_rect().top\n",
        "            bottle.rect.x = 3 + (count * bottle.rect.width + 1)\n",
        "            count += 1\n",
        "        self.hero_bottles.draw(dnp_game.screen)\n",
        "\n",
        "    def use_bottle(self, color):\n",
        "        \"\"\"\n",
        "            If specific bottle used\n",
        "            It affects some parameters\n",
        "            Afterward bottle is removed from screen\n",
        "        \"\"\"\n",
        "        for bottle in self.hero_bottles:\n",
        "            if bottle.color == color:\n",
        "                if color == 'red':\n",
        "                    self.settings.hero_hp += self.settings.hp_effect\n",
        "                elif color == 'blue':\n",
        "                    self.settings.hero_damage += self.settings.damage_effect\n",
        "                elif color == 'yellow':\n",
        "                    self.settings.hero_defense += self.settings.defense_effect\n",
        "                self.hero_bottles.remove(bottle)\n",
        "                break"
      ],
      "metadata": {
        "id": "vv4yRQc6nxZ-"
      },
      "execution_count": 16,
      "outputs": []
    },
    {
      "cell_type": "markdown",
      "source": [
        "### Monster class"
      ],
      "metadata": {
        "id": "A_G94_CDpDBe"
      }
    },
    {
      "cell_type": "markdown",
      "source": [
        "The second class implements Monster. It is almost identical to the hero one but has a few differences. Monster cannot defend, collect, or use bottles to increase its stats. It could only spawn, move, and attack the hero if they collided. The last two actions are happening automatically."
      ],
      "metadata": {
        "id": "9NebWJY3pE5O"
      }
    },
    {
      "cell_type": "code",
      "source": [
        "class Monster(Sprite):\n",
        "    def __init__(self, dnp_game) -> None:\n",
        "        \"\"\"\n",
        "            Initialize monster basic parameters\n",
        "        \"\"\"\n",
        "        super().__init__()\n",
        "        self.screen = dnp_game.screen\n",
        "        self.screen_rect = dnp_game.screen.get_rect()\n",
        "        self.settings = dnp_game.settings\n",
        "\n",
        "        #  Load the image and get its rect.\n",
        "        self.basic_image = pygame.image.load('images/snake.png')\n",
        "        self.image = self.basic_image\n",
        "        self.attack_image = pygame.image.load('images/snake_attacks.png')\n",
        "        self.lost_image = pygame.image.load('images/snake_lost.png')\n",
        "        self.attacking = False\n",
        "\n",
        "        # self.image = pygame.transform.scale(self.image, (60, 60))\n",
        "        self.rect = self.image.get_rect()\n",
        "\n",
        "        #  Start each new monster at the right of the screen\n",
        "        self.rect.midright = self.screen_rect.midright\n",
        "\n",
        "        #  Store a decimal value for the monster's speed\n",
        "        self.x = float(self.rect.x)\n",
        "        self.y = float(self.rect.y)\n",
        "\n",
        "    def attack(self, hero):\n",
        "        \"\"\"\n",
        "            Monster attack method\n",
        "            It can only attack with the specific damage\n",
        "        \"\"\"\n",
        "        self.image = self.attack_image\n",
        "        # calculate damage\n",
        "        if hero.settings.hero_hp <= 0:\n",
        "            return\n",
        "        if hero.defending:\n",
        "            if hero.settings.hero_defense < self.settings.monster_damage:\n",
        "                hero.settings.hero_hp -= (self.settings.monster_damage - hero.settings.hero_defense)\n",
        "        else:\n",
        "            hero.settings.hero_hp -= self.settings.monster_damage\n",
        "        if hero.settings.hero_hp < 0:\n",
        "            hero.settings.hero_hp = 0\n",
        "\n",
        "    def attack_finished(self):\n",
        "        \"\"\"\n",
        "            Return to the basic image when attack finishes\n",
        "        \"\"\"\n",
        "        self.image = self.basic_image\n",
        "\n",
        "    def update(self, dnp_game):\n",
        "        \"\"\"\n",
        "            Updates monster positions\n",
        "            Makes it move in direction of the hero\n",
        "            with the specific speed\n",
        "        \"\"\"\n",
        "        hero_x = dnp_game.hero.rect.x\n",
        "        hero_y = dnp_game.hero.rect.y\n",
        "        mnst_speed = dnp_game.settings.monster_speed\n",
        "\n",
        "        # check case when hero is near\n",
        "        # attack!\n",
        "        if self.rect.colliderect(dnp_game.hero):\n",
        "            self.attack(dnp_game.hero)\n",
        "            # screen update\n",
        "            dnp_game.update_screen()\n",
        "            pygame.time.delay(200)\n",
        "            self.attack_finished()\n",
        "        else:\n",
        "            if self.x < hero_x:\n",
        "                self.x += mnst_speed\n",
        "            elif self.x > hero_x:\n",
        "                self.x -= mnst_speed\n",
        "            if self.y < hero_y:\n",
        "                self.y += mnst_speed\n",
        "            elif self.y > hero_y:\n",
        "                self.y -= mnst_speed\n",
        "\n",
        "        #  Update rect\n",
        "        self.rect.x = self.x\n",
        "        self.rect.y = self.y\n",
        "\n",
        "    def blitme(self):\n",
        "        \"\"\"\n",
        "            Draw the monster at its current location.\n",
        "        \"\"\"\n",
        "        self.screen.blit(self.image, self.rect)"
      ],
      "metadata": {
        "id": "hSOiHAzgphrj"
      },
      "execution_count": 17,
      "outputs": []
    },
    {
      "cell_type": "markdown",
      "source": [
        "### Bottle class"
      ],
      "metadata": {
        "id": "n0huJqnwp1Jf"
      }
    },
    {
      "cell_type": "markdown",
      "source": [
        "This class represents bottles of different colors and properties. Each color affects different hero stats. e.g., red for the HP, blue for the damage, and yellow for the defense."
      ],
      "metadata": {
        "id": "wH_Djgyfp4pV"
      }
    },
    {
      "cell_type": "code",
      "source": [
        "class Bottle(Sprite):\n",
        "    \"\"\"\n",
        "        Bottles that could be collected\n",
        "        Placed on the game field or in the inventory\n",
        "        Affect different hero parameters\n",
        "    \"\"\"\n",
        "\n",
        "    def __init__(self, dnp_game, color_name='red', size=(40, 60)) -> None:\n",
        "        \"\"\"\n",
        "            initializes a bottle of a color with a size\n",
        "        \"\"\"\n",
        "        super().__init__()\n",
        "        self.screen = dnp_game.screen\n",
        "        self.settings = dnp_game.settings\n",
        "        self.color = color_name\n",
        "\n",
        "        self.image = pygame.image.load(f'images/{color_name}_bottle.png')\n",
        "        self.image = pygame.transform.scale(self.image, size)\n",
        "        self.rect = self.image.get_rect()"
      ],
      "metadata": {
        "id": "lP86ckQyqMnd"
      },
      "execution_count": 18,
      "outputs": []
    },
    {
      "cell_type": "markdown",
      "source": [
        "### Arrow class"
      ],
      "metadata": {
        "id": "w0DseiNtqP6N"
      }
    },
    {
      "cell_type": "markdown",
      "source": [
        "The arrow class is used to create, show, and move arrow objects. Arrows could only be made by the archer hero class. It is the standard distance attack type for this hero's choice. The warrior doesn't have access to this. The arrow could only move from left to right on the gamefield. It's a powerful weapon, so the idea here was not to make it too strong."
      ],
      "metadata": {
        "id": "meJExM_XqRpE"
      }
    },
    {
      "cell_type": "code",
      "source": [
        "class Arrow(Sprite):\n",
        "    \"\"\"\n",
        "        Manages arrow object at the archer current position\n",
        "        For archer hero class only\n",
        "    \"\"\"\n",
        "\n",
        "    def __init__(self, dnp_game):\n",
        "        \"\"\"\n",
        "            Initialize the arrow and sets basic parameters\n",
        "        \"\"\"\n",
        "        super().__init__()\n",
        "        self.screen = dnp_game.screen\n",
        "        self.settings = dnp_game.settings\n",
        "        # self.color = self.settings.arrow_color\n",
        "        self.image = pygame.image.load('images/arrow.png')\n",
        "        self.rect = self.image.get_rect()\n",
        "\n",
        "        # create an arrow rect at (0, 0) and set correct position\n",
        "        self.rect = pygame.Rect(0, 0, self.settings.arrow_width,\n",
        "                                self.settings.arrow_height)\n",
        "        self.rect.midleft = dnp_game.hero.rect.midright\n",
        "        self.rect.y -= 15\n",
        "\n",
        "        #  Store arrow's position\n",
        "        self.x = float(self.rect.x)"
      ],
      "metadata": {
        "id": "P52rD8Ccqy0l"
      },
      "execution_count": 19,
      "outputs": []
    },
    {
      "cell_type": "markdown",
      "source": [
        "### Settings class"
      ],
      "metadata": {
        "id": "t38sYSpgq7Cr"
      }
    },
    {
      "cell_type": "markdown",
      "source": [
        "This is a utility class. It is used to store most of the number values in one place, trying to eliminate so called \"magic numbers\". Also, it's changing hero and monster stats dynamically according to the chosen difficulty level."
      ],
      "metadata": {
        "id": "uBG9CcBuq8s8"
      }
    },
    {
      "cell_type": "code",
      "source": [
        "class Settings:\n",
        "    \"\"\"\n",
        "        Game settings class\n",
        "        Mainly to eliminate \"magic numbers\"\n",
        "    \"\"\"\n",
        "\n",
        "    def __init__(self) -> None:\n",
        "        # None will be set in dynamic settings\n",
        "        self.monster_speed = None\n",
        "        self.monster_damage = None\n",
        "        self.hero_defense = None\n",
        "        self.hero_damage = None\n",
        "        self.monster_hp = None\n",
        "        self.hero_hp = None\n",
        "        self.hero_speed = None\n",
        "        # game settings\n",
        "        self.screen_width = 1200\n",
        "        self.screen_height = 800\n",
        "        self.bg_color = (230, 230, 230)\n",
        "        self.difficulty = \"easy\"\n",
        "        # inventory settings\n",
        "        self.max_inv = 3\n",
        "        # bottle settings\n",
        "        self.hp_effect = 20\n",
        "        self.damage_effect = 5\n",
        "        self.defense_effect = 5\n",
        "        # arrow settings\n",
        "        self.arrow_width = 15\n",
        "        self.arrow_height = 3\n",
        "        self.arrow_color = (60, 60, 60)\n",
        "        self.arrows_allowed = 3\n",
        "        self.arrow_speed = 3.0\n",
        "        self.initialize_dynamic_settings()\n",
        "\n",
        "    def initialize_dynamic_settings(self):\n",
        "        \"\"\"\n",
        "            Dynamic settings for different difficulty\n",
        "            And also refreshes HP for hero/monster for the new session\n",
        "        \"\"\"\n",
        "        # hero settings\n",
        "        self.hero_speed = 4\n",
        "        self.hero_hp = 100\n",
        "        # monster settings\n",
        "        self.monster_hp = 100\n",
        "\n",
        "        \"\"\"change settings according to the difficulty\"\"\"\n",
        "        if self.difficulty == \"easy\":\n",
        "            self.hero_damage = 10\n",
        "            self.hero_defense = 5\n",
        "            self.monster_damage = 3\n",
        "            self.monster_speed = 1\n",
        "        elif self.difficulty == \"medium\":\n",
        "            self.hero_damage = 7\n",
        "            self.hero_defense = 3\n",
        "            self.monster_damage = 5\n",
        "            self.monster_speed = 1.5\n",
        "        elif self.difficulty == \"hard\":\n",
        "            self.hero_damage = 5\n",
        "            self.hero_defense = 2\n",
        "            self.monster_damage = 7\n",
        "            self.monster_speed = 2\n"
      ],
      "metadata": {
        "id": "k5_8RXykrVgz"
      },
      "execution_count": 20,
      "outputs": []
    },
    {
      "cell_type": "markdown",
      "source": [
        "### Buttons classes"
      ],
      "metadata": {
        "id": "Q7QFuCmorY3K"
      }
    },
    {
      "cell_type": "markdown",
      "source": [
        "Here are not one, but three classes. The basic button class for any button on the screen. In the case of the current game, it is the Play button. Difficulty button to choose a different difficulty level. and the Hero button to choose the hero class (warrior or archer) for the current game session."
      ],
      "metadata": {
        "id": "bJNb3TiYrb8K"
      }
    },
    {
      "cell_type": "code",
      "source": [
        "class Button:\n",
        "    \"\"\"\n",
        "        Clickable buttons class\n",
        "    \"\"\"\n",
        "\n",
        "    def __init__(self, dnp_game, msg):\n",
        "        \"\"\"\n",
        "            initialize attributes for button\n",
        "        \"\"\"\n",
        "        self.screen = dnp_game.screen\n",
        "        self.screen_rect = self.screen.get_rect()\n",
        "\n",
        "        #  Set the dimensions and properties of the button\n",
        "        self.width, self.height = 200, 50\n",
        "        self.button_color = (0, 0, 0)\n",
        "        self.text_color = (192, 192, 192)\n",
        "        self.font = pygame.font.SysFont(None, 48)\n",
        "\n",
        "        #  Build the button's rect object and center it\n",
        "        self.rect = pygame.Rect(0, 0, self.width, self.height)\n",
        "        self.rect.center = self.screen_rect.center\n",
        "\n",
        "        #  The button message\n",
        "        self._prep_msg(msg)\n",
        "\n",
        "    def _prep_msg(self, msg):\n",
        "        \"\"\"\n",
        "            Turn msg into a rendered image and center text on the button\n",
        "        \"\"\"\n",
        "        self.msg_image = self.font.render(msg, True, self.text_color,\n",
        "                                          self.button_color)\n",
        "        self.msg_image_rect = self.msg_image.get_rect()\n",
        "        self.msg_image_rect.center = self.rect.center\n",
        "\n",
        "    def draw_button(self):\n",
        "        \"\"\"\n",
        "            Draw a blank button and then draw message\n",
        "        \"\"\"\n",
        "        self.screen.fill(self.button_color, self.rect)\n",
        "        self.screen.blit(self.msg_image, self.msg_image_rect)\n",
        "\n",
        "\n",
        "class DifficultyButton(Button):\n",
        "    \"\"\"Class for the specific button for the difficulty\"\"\"\n",
        "\n",
        "    def __init__(self, dnp_game, msg, location):\n",
        "        super().__init__(dnp_game, msg)\n",
        "        if location == \"topright\":\n",
        "            self.rect.topright = self.screen_rect.topright\n",
        "        elif location == \"midright\":\n",
        "            self.rect.midright = self.screen_rect.midright\n",
        "        elif location == \"bottomright\":\n",
        "            self.rect.bottomright = self.screen_rect.bottomright\n",
        "            # by the stats font up\n",
        "            self.rect.y -= 24\n",
        "        self._prep_msg(msg)\n",
        "\n",
        "\n",
        "class HeroButton(Button):\n",
        "    \"\"\"Specific hero class choice button\"\"\"\n",
        "\n",
        "    def __init__(self, dnp_game, msg, location):\n",
        "        super().__init__(dnp_game, msg)\n",
        "        if location == 'midleft':\n",
        "            self.rect.midleft = self.screen_rect.midleft\n",
        "        elif location == 'bottomleft':\n",
        "            self.rect.bottomleft = self.screen_rect.bottomleft\n",
        "            # by the stats font up\n",
        "            self.rect.y -= 24\n",
        "        self._prep_msg(msg)"
      ],
      "metadata": {
        "id": "A0eH93vpry9s"
      },
      "execution_count": 23,
      "outputs": []
    },
    {
      "cell_type": "markdown",
      "source": [
        "### Game class. DungeonAndPythons\n"
      ],
      "metadata": {
        "id": "g6CkSkbfr8B1"
      }
    },
    {
      "cell_type": "markdown",
      "source": [
        "The class for the game object itself. It is the main class in the program. It initiates all the parameters for the game, creates all objects, starts the game, and holds the main game loop. It also draws and shows objects on the screen, checks if some of them have collided, and processes them accordingly. Also, it tracks the current game state if it hasn't started yet or finished already. Print the welcome screen with all the buttons and options, but also the final win or lose message. Basically, it is the control center for the whole game. The one that holds all the other classes together."
      ],
      "metadata": {
        "id": "ybM931Ldr_07"
      }
    },
    {
      "cell_type": "code",
      "source": [
        "class DungeonAndPythons:\n",
        "    \"\"\"Manage a game\"\"\"\n",
        "\n",
        "    def __init__(self) -> None:\n",
        "        \"\"\"\n",
        "        Initialize a game. Creating Hero and Monster\n",
        "        And other parameters\n",
        "        \"\"\"\n",
        "        pygame.init()\n",
        "        self.settings = Settings()\n",
        "        self.screen = pygame.display.set_mode(\n",
        "            (self.settings.screen_width, self.settings.screen_height))\n",
        "        pygame.display.set_caption(\"Dungeon'n'Pythons\")\n",
        "        self.fpsClock = pygame.time.Clock()\n",
        "        self.hero_class = 'warrior'\n",
        "\n",
        "        self.hero = Hero(self, self.hero_class)\n",
        "        self.monster = Monster(self)\n",
        "        self.bottles = pygame.sprite.Group()\n",
        "        self.arrows = pygame.sprite.Group()\n",
        "\n",
        "        self.text_color = (30, 30, 30)\n",
        "        self.font = pygame.font.SysFont(None, 48)\n",
        "        self.font_stats = pygame.font.SysFont(None, 24)\n",
        "        self.font_help = pygame.font.SysFont(None, 14)\n",
        "\n",
        "        #  Make the play button\n",
        "        self.play_button = Button(self, \"Play ('p')\")\n",
        "\n",
        "        #  Make difficulty buttons\n",
        "        self.easy_button = DifficultyButton(self, \"Easy\", \"topright\")\n",
        "        self.medium_button = DifficultyButton(self, \"Medium\", \"midright\")\n",
        "        self.hard_button = DifficultyButton(self, \"Hard\", \"bottomright\")\n",
        "\n",
        "        # Hero buttons\n",
        "        self.warrior_button = HeroButton(self, \"Warrior\", \"midleft\")\n",
        "        self.archer_button = HeroButton(self, \"Archer\", \"bottomleft\")\n",
        "\n",
        "        self.game_active = False\n",
        "\n",
        "    def _create_bottles(self):\n",
        "        \"\"\"\n",
        "            Creates and places bottles which could be collected\n",
        "            by the hero. Bottles affect hp, damage and defense parameters\n",
        "        \"\"\"\n",
        "        for color in {'red', 'yellow', 'blue'}:\n",
        "            for _ in range(3):\n",
        "                bottle = Bottle(self, color)\n",
        "                max_x = self.screen.get_rect().width - bottle.rect.width\n",
        "                max_y = self.screen.get_rect().height - bottle.rect.height\n",
        "\n",
        "                bottle.rect.x = random.randint(0, max_x)\n",
        "                bottle.rect.y = random.randint(0, max_y)\n",
        "\n",
        "                #  start each new alien near random place of the screen\n",
        "                while bottle.rect.colliderect(self.hero) \\\n",
        "                        or bottle.rect.colliderect(self.monster) \\\n",
        "                        or pygame.sprite.spritecollideany(bottle, self.bottles):\n",
        "                    bottle.rect.x = random.randint(0, max_x)\n",
        "                    bottle.rect.y = random.randint(0, max_y)\n",
        "\n",
        "                self.bottles.add(bottle)\n",
        "\n",
        "    def _start_game(self):\n",
        "        \"\"\"\n",
        "           Initialize the basic game parameters\n",
        "           Cleans the screen from previous game session\n",
        "        \"\"\"\n",
        "        self.settings.initialize_dynamic_settings()\n",
        "        self.game_active = True\n",
        "        self.bottles.empty()\n",
        "        self.arrows.empty()\n",
        "        self._create_bottles()\n",
        "        self.hero = Hero(self, self.hero_class)\n",
        "        self.monster = Monster(self)\n",
        "        pygame.mouse.set_visible(False)\n",
        "        self.run_game()\n",
        "\n",
        "    def run_game(self):\n",
        "        \"\"\"\n",
        "            Manages main loop for the game\n",
        "        \"\"\"\n",
        "        while True:\n",
        "            # 60 fps lock\n",
        "            self.fpsClock.tick(60)\n",
        "            self._check_events()\n",
        "            if self.game_active:\n",
        "                self.hero.update()\n",
        "                self.monster.update(self)\n",
        "                self.arrows.update()\n",
        "                self._update_arrows()\n",
        "                hp_check = self._check_hp()\n",
        "                if hp_check is None:\n",
        "                    pass\n",
        "                else:\n",
        "                    self.game_active = False\n",
        "                    pygame.mouse.set_visible(True)\n",
        "            self.update_screen()\n",
        "\n",
        "    def _check_events(self):\n",
        "        \"\"\"\n",
        "            Respond to key presses and mouse events.\n",
        "        \"\"\"\n",
        "        for event in pygame.event.get():\n",
        "            if event.type == pygame.QUIT:\n",
        "                sys.exit()\n",
        "            elif event.type == pygame.MOUSEBUTTONDOWN:\n",
        "                mouse_pos = pygame.mouse.get_pos()\n",
        "                self._check_play_button(mouse_pos)\n",
        "            elif event.type == pygame.KEYDOWN:\n",
        "                self._check_keydown_events(event)\n",
        "            elif event.type == pygame.KEYUP:\n",
        "                self._check_keyup_events(event)\n",
        "\n",
        "    def _check_play_button(self, mouse_pos):\n",
        "        \"\"\"\n",
        "            Process mouse clicks on buttons\n",
        "        \"\"\"\n",
        "        button_clicked = self.play_button.rect.collidepoint(mouse_pos)\n",
        "        if not self.game_active:\n",
        "            if button_clicked:\n",
        "                self._start_game()\n",
        "            elif self.easy_button.rect.collidepoint(mouse_pos):\n",
        "                self.settings.difficulty = \"easy\"\n",
        "            elif self.medium_button.rect.collidepoint(mouse_pos):\n",
        "                self.settings.difficulty = \"medium\"\n",
        "            elif self.hard_button.rect.collidepoint(mouse_pos):\n",
        "                self.settings.difficulty = \"hard\"\n",
        "            elif self.warrior_button.rect.collidepoint(mouse_pos):\n",
        "                self.hero_class = 'warrior'\n",
        "            elif self.archer_button.rect.collidepoint(mouse_pos):\n",
        "                self.hero_class = 'archer'\n",
        "\n",
        "    def _check_keydown_events(self, event):\n",
        "        \"\"\"\n",
        "            Process keyboard keys interaction\n",
        "        \"\"\"\n",
        "        if not self.game_active and event.key == pygame.K_p:\n",
        "            self._start_game()\n",
        "        elif event.key == pygame.K_RIGHT:\n",
        "            self.hero.moving_right = True\n",
        "        elif event.key == pygame.K_LEFT:\n",
        "            self.hero.moving_left = True\n",
        "        elif event.key == pygame.K_UP:\n",
        "            self.hero.moving_up = True\n",
        "        elif event.key == pygame.K_DOWN:\n",
        "            self.hero.moving_down = True\n",
        "        elif event.key == pygame.K_q:\n",
        "            sys.exit()\n",
        "        elif event.key == pygame.K_SPACE:\n",
        "            self.hero.attack(self.monster)\n",
        "            if self.hero_class == 'archer':\n",
        "                self._fire_arrow()\n",
        "        elif event.key == pygame.K_LCTRL:\n",
        "            self.hero.defense()\n",
        "        elif event.key == pygame.K_h:\n",
        "            # health bottle\n",
        "            self.hero.use_bottle('red')\n",
        "        elif event.key == pygame.K_a:\n",
        "            # damage blue\n",
        "            self.hero.use_bottle('blue')\n",
        "        elif event.key == pygame.K_d:\n",
        "            # defense yellow\n",
        "            self.hero.use_bottle('yellow')\n",
        "\n",
        "    def _check_keyup_events(self, event):\n",
        "        \"\"\"\n",
        "            Process finish of pressing keyboard keys\n",
        "        \"\"\"\n",
        "        if event.key == pygame.K_RIGHT:\n",
        "            self.hero.moving_right = False\n",
        "        elif event.key == pygame.K_LEFT:\n",
        "            self.hero.moving_left = False\n",
        "        elif event.key == pygame.K_UP:\n",
        "            self.hero.moving_up = False\n",
        "        elif event.key == pygame.K_DOWN:\n",
        "            self.hero.moving_down = False\n",
        "        elif event.key == pygame.K_SPACE:\n",
        "            self.hero.attack_finished()\n",
        "        elif event.key == pygame.K_LCTRL:\n",
        "            self.hero.defense_finished()\n",
        "\n",
        "    def update_screen(self):\n",
        "        \"\"\"\n",
        "            Update images on the screen, and flip to the new screen.\n",
        "        \"\"\"\n",
        "        self.screen.fill(self.settings.bg_color)\n",
        "        self.hero.blitme()\n",
        "        self.monster.blitme()\n",
        "\n",
        "        # checks hp of hero/monsters to display message\n",
        "        self._check_hp()\n",
        "\n",
        "        self._check_hero()\n",
        "        self._check_monster()\n",
        "        self._render_help()\n",
        "        for arrow in self.arrows.sprites():\n",
        "            arrow.draw_arrow()\n",
        "\n",
        "        self.bottles.draw(self.screen)\n",
        "        self.hero.check_bottle_col(self)\n",
        "        self.hero.draw_hero_bottles(self)\n",
        "\n",
        "        #  Draw buttons if game is inactive\n",
        "        if not self.game_active:\n",
        "            self.play_button.draw_button()\n",
        "            self.easy_button.draw_button()\n",
        "            self.medium_button.draw_button()\n",
        "            self.hard_button.draw_button()\n",
        "            self.warrior_button.draw_button()\n",
        "            self.archer_button.draw_button()\n",
        "\n",
        "        #  Make the most recently drawn screen visible.\n",
        "        pygame.display.flip()\n",
        "\n",
        "    def _check_hp(self):\n",
        "        \"\"\"\n",
        "            Checks the remaining hero/monster HP\n",
        "            If <=0, game finishes\n",
        "        \"\"\"\n",
        "        self.message = ''\n",
        "        if self.settings.monster_hp <= 0:\n",
        "            self.message = 'YOU WON!'\n",
        "            self.monster.image = self.monster.lost_image\n",
        "        elif self.settings.hero_hp <= 0:\n",
        "            self.message = 'YOU LOST...'\n",
        "            self.hero.image = self.hero.lost_image\n",
        "        if self.message:\n",
        "            self.final_message = self.font.render(self.message, True,\n",
        "                                                  self.text_color, self.settings.bg_color)\n",
        "            self.message_rect = self.final_message.get_rect()\n",
        "            self.message_rect.center = self.screen.get_rect().center\n",
        "            self.message_rect.y += 50\n",
        "            self.screen.blit(self.final_message, self.message_rect)\n",
        "            return True\n",
        "        return None\n",
        "\n",
        "    def _check_hero(self):\n",
        "        \"\"\"\n",
        "            Check and display hero current stats\n",
        "        \"\"\"\n",
        "        text = 'HERO '\n",
        "        text += f'HP:{self.settings.hero_hp} '\n",
        "        text += f'Damage:{self.settings.hero_damage} '\n",
        "        text += f'Defense:{self.settings.hero_defense} '\n",
        "\n",
        "        message = self.font_stats.render(text, True,\n",
        "                                         self.text_color, self.settings.bg_color)\n",
        "        message_rect = message.get_rect()\n",
        "        message_rect.bottomleft = self.screen.get_rect().bottomleft\n",
        "        self.screen.blit(message, message_rect)\n",
        "\n",
        "    def _check_monster(self):\n",
        "        \"\"\"\n",
        "            Check and display monster current stats\n",
        "        \"\"\"\n",
        "        text = 'MONSTER '\n",
        "        text += f'HP:{self.settings.monster_hp} '\n",
        "        text += f'Damage:{self.settings.monster_damage} '\n",
        "        # text += f'Defense: {self.settings}\\n'\n",
        "\n",
        "        message = self.font_stats.render(text, True,\n",
        "                                         self.text_color, self.settings.bg_color)\n",
        "        message_rect = message.get_rect()\n",
        "        message_rect.bottomright = self.screen.get_rect().bottomright\n",
        "        self.screen.blit(message, message_rect)\n",
        "\n",
        "    def _render_help(self):\n",
        "        \"\"\"\n",
        "            Renders help for control keys\n",
        "        \"\"\"\n",
        "        help_text = [\n",
        "            '(SPACE) for attack',\n",
        "            '(LCtrl) for defense',\n",
        "            '(H) for health (red) bottle',\n",
        "            '(D) for defense (yellow) bottle',\n",
        "            '(A) for damage (blue) bottle',\n",
        "            '(Q) for exit'\n",
        "        ]\n",
        "        count = 0\n",
        "        for line in help_text:\n",
        "            message = self.font_help.render(line, True,\n",
        "                                            self.text_color, self.settings.bg_color)\n",
        "            message_rect = message.get_rect()\n",
        "            message_rect.topleft = self.screen.get_rect().topleft\n",
        "            message_rect.y += 31 + count * 14\n",
        "            count += 1\n",
        "            self.screen.blit(message, message_rect)\n",
        "\n",
        "    def _fire_arrow(self):\n",
        "        \"\"\"\n",
        "            Creates new arrow and add it to the group\n",
        "        \"\"\"\n",
        "        if len(self.arrows) < self.settings.arrows_allowed:\n",
        "            new_arrow = Arrow(self)\n",
        "            self.arrows.add(new_arrow)\n",
        "\n",
        "    def _update_arrows(self):\n",
        "        \"\"\"\n",
        "            Update position and delete old arrows\n",
        "        \"\"\"\n",
        "        self.arrows.update()\n",
        "\n",
        "        for arrow in self.arrows.copy():\n",
        "            if arrow.rect.right > self.screen.get_rect().right:\n",
        "                self.arrows.remove(arrow)\n",
        "\n",
        "        self._check_bullet_monster_collision()\n",
        "\n",
        "    def _check_bullet_monster_collision(self):\n",
        "        \"\"\"\n",
        "            Check collision between any arrow and monster\n",
        "            Does damage to the monster and deletes arrow\n",
        "        \"\"\"\n",
        "        if pygame.sprite.spritecollideany(self.monster, self.arrows):\n",
        "            collisions = pygame.sprite.spritecollide(self.monster, self.arrows, True)\n",
        "            self.arrows.remove(collisions.pop())\n",
        "            self.monster.settings.monster_hp -= self.hero.settings.hero_damage\n",
        "            if self.monster.settings.monster_hp < 0:\n",
        "                self.monster.settings.monster_hp = 0"
      ],
      "metadata": {
        "id": "DLB2NWAxr_Qq"
      },
      "execution_count": 24,
      "outputs": []
    },
    {
      "cell_type": "markdown",
      "source": [
        "### Other info about classes"
      ],
      "metadata": {
        "id": "E18nDgVZ1ki-"
      }
    },
    {
      "cell_type": "markdown",
      "source": [
        "Many features of this game are based on the classes and methods provided by the PyGame library. For example, hero, monster, and even the arrows or bottles objects are inherited from Sprite class of the PyGame module. This way, all the work to represent it on the screen and check the collisions is up to the module itself. And the work here includes only developing the program logic itself, writing a set of class methods, and processing interactions between different parts of the game. In terms of the current final project conditions specified in the evaluation criteria, the classes methods represent the implementation of a functions, which are needed to successfully pass the final project check."
      ],
      "metadata": {
        "id": "hFo6y7Qb1oKD"
      }
    },
    {
      "cell_type": "markdown",
      "source": [
        "## Game controls\n"
      ],
      "metadata": {
        "id": "-sBQgmB0w2TP"
      }
    },
    {
      "cell_type": "markdown",
      "source": [
        "When the game starts, it first shows the welcome screen. The welcome screen has a few buttons: three to choose difficulty level (easy, medium, and hard), two to choose hero class (warrior or archer), and one to start the game (Play button), which could also be started by pressing the 'P' key on the keyboard. Other buttons take effect when they are clicked by the mouse cursor. The last button that was clicked is considered the final choice for a certain option (difficulty or hero class)."
      ],
      "metadata": {
        "id": "EaXfdrlWw2Xz"
      }
    },
    {
      "cell_type": "markdown",
      "source": [
        "After the play button is clicked or the 'P' key is pressed, the monster will start to move across the gamefield in the direction of the hero in order to attack him. The hero could be controlled by arrow keys on the keyboard in any of four directions from edge to edge of the screen. Also, the hero automatically collects up to three unused bottles, which could be used by the specified keys: 'H' - for the health bottle (red), 'A' - for the damage bottle (blue), and 'D' - for the defense bottle (yellow). The space bar is used to attack the monster by the hero. Warrior class could only do damage to the monster if they collided. Archer in turn, could make up to three arrows on the gamefield at the same time. Arrows moving from the left to the right of the screen do damage to the monster if they collide. Arrows would disappear in that case, or when reaching the far right border of the screen. When the arrow disappeared, the archer could shoot another one."
      ],
      "metadata": {
        "id": "SxTh-GTGyQ1D"
      }
    },
    {
      "cell_type": "markdown",
      "source": [
        "When the hero's or monster's HP is zero, the game ends with the player's win or loss. The player could start a new session by clicking the Play button or pressing 'P' keys, that way, all the parameters will be reset and the game will start clean. Also, at the end of the game session, any parameter could be changed, such as hero class or difficulty. In any case, the key 'Q' could be used to exit the game window."
      ],
      "metadata": {
        "id": "wLaH6hG70IcX"
      }
    },
    {
      "cell_type": "markdown",
      "source": [
        "## Program example"
      ],
      "metadata": {
        "id": "lOYEuC-903Dt"
      }
    },
    {
      "cell_type": "markdown",
      "source": [
        "Due to limitations of either Google Colab or a local Jupyter notebook. The example of the game described above is provided in a separate file called 'final_proj_branov.py'. In order for this game to work, it is extremely necessary to have the PyGame module installed; version 2.4.0 is recommended. Also, the images for the game object sprites must be inside the \"images\" catalog in the same directory as the main .py file of the program. For this project, I'll try to attach the current .ipynb, .py  file and images of the game program in the form of .zip archive or/and separately. To execute the program, it is enough to execute 'python ./final_proj_baranov.py' command in the terminal or the command line in the graphical interface of the OS (e.g. Windows)."
      ],
      "metadata": {
        "id": "mHhXusdn055M"
      }
    }
  ]
}