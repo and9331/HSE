{
 "cells": [
  {
   "cell_type": "markdown",
   "metadata": {
    "id": "jCLFE67tXu6m"
   },
   "source": [
    "# Ticket aggregator"
   ]
  },
  {
   "cell_type": "markdown",
   "metadata": {
    "id": "OhRjdKKlgXmh"
   },
   "source": [
    "## Introduction\n",
    "\n",
    "The program is designed to classify an airfare offer based on the criteria provided in the user input. Specifically user inputs the *ticket price*, *number of transfers*, *refund* and *luggage* policy. Each parameter has it's rules, e.g. price can be only integer or float number, transfers number either natural number or zero, refund and luggage included is 'y' for yes or 'n' for no. The values typed into fields are controlled, the program will ask to repeat input if the value is not what has been expected. Some parameters have default values to ease inputs and testing.\n",
    "\n",
    "There are four classification categories based on the info in the brief:\n",
    "\n",
    "*   \"**The best offer**\". Price less than \\$200, direct or 1 transfer, refund and luggage included\n",
    "*   \"**Good enough**\". Price from \\$200 to \\$250, less than 2 transfers, refund and luggage don't matter\n",
    "*   \"**The worst offer**\". Price is more than \\$250, 3 or more transfers, refund and luggage don't matter\n",
    "*   \"**Other**\". For the cases which cannot be classified as one of above\n",
    "</p>\n",
    "\n"
   ]
  },
  {
   "cell_type": "markdown",
   "metadata": {
    "id": "5FP6przPge9f"
   },
   "source": [
    "## Program code\n",
    "\n"
   ]
  },
  {
   "cell_type": "markdown",
   "metadata": {
    "id": "nS81DuGUgnOX"
   },
   "source": [
    "Through the dictionaries, let us map flight categories and yes/no to numbers for more consistent logic and future use."
   ]
  },
  {
   "cell_type": "code",
   "execution_count": null,
   "metadata": {
    "id": "sHx-07B8gjyH"
   },
   "outputs": [],
   "source": [
    "# categories mapping\n",
    "categories = {0: \"other\", 1: \"the best offer\", 2: \"good enough\", 3: \"the worst offer\"}\n",
    "# yes/now answer mapping\n",
    "yes_no = {\"y\": 1, \"n\": 0}"
   ]
  },
  {
   "cell_type": "markdown",
   "metadata": {
    "id": "ax5mYxNohPrH"
   },
   "source": [
    "*Processing user inputs*. The program takes user inputs and uses a while loops to ensure that the user provides the expected input or stops the program. In the case of the ticket price, the input can be a natural or float number. Therefore, a ValueError try-except block is used to catch the situation where the input cannot be converted to float. In addition, the price cannot be negative number *(let us assume zero is for situations where ticket is free)*. For the number of transfers, only digits are expected. For refund and luggage, either 'y' or 'n' can be entered. Once the parameters are received as expected, the program casts the transfer number to an integer and the 'y' or 'n' answers to 1 or 0 type integers. This way, the last two parameters can be used directly as Boolean values.  Additionally, all three parameters have default values."
   ]
  },
  {
   "cell_type": "code",
   "execution_count": null,
   "metadata": {
    "colab": {
     "base_uri": "https://localhost:8080/"
    },
    "id": "P8jkPXf3lipY",
    "outputId": "beb68d3d-45b3-42d8-f00d-eadec9cc5f9c"
   },
   "outputs": [
    {
     "name": "stdout",
     "output_type": "stream",
     "text": [
      "\n",
      "---Ticket aggregator---\n",
      "Please input parameters to start the process\n",
      "\n",
      "Enter ticket price: -123\n",
      "The price cannot be negative, retry please.\n",
      "Enter ticket price: aaa\n",
      "Price must be a number, please retry\n",
      "Enter ticket price: 199.99\n",
      "Enter the number of transfers (default = 0): a\n",
      "Number of transfers must be a digit, retry: -2\n",
      "Number of transfers must be a digit, retry: 1\n",
      "Is the ticket refundable? (y/n) (default - no): i don't know\n",
      "Please answer (y/n for yes/no): y\n",
      "Does the ticket include luggage? (y/n) (default - no): who cares\n",
      "Please answer (y/n for yes/no): y\n"
     ]
    }
   ],
   "source": [
    "print(\"\\n---Ticket aggregator---\")\n",
    "print(\"Please input parameters to start the process\\n\")\n",
    "\n",
    "# user input\n",
    "while True:\n",
    "    try:\n",
    "        price = input(\"Enter ticket price: \")\n",
    "\n",
    "        # casting to float\n",
    "        # if failed - goes to expection block and repeat input()\n",
    "        price = float(price)\n",
    "\n",
    "        if price < 0:\n",
    "            print(\"The price cannot be negative, retry please.\")\n",
    "        else:\n",
    "            # price is good, break from while True loop\n",
    "            break\n",
    "    except ValueError:\n",
    "        print(\"Price must be a number, please retry\")\n",
    "\n",
    "# provides default value since bool(\"\") == False\n",
    "transfers = input(\"Enter the number of transfers (default = 0): \") or \"0\"\n",
    "\n",
    "# strips spaces and check if str consist of digits\n",
    "# while the transfer num is not digit keep asking\n",
    "while not transfers.strip().isdigit():\n",
    "    transfers = input(\"Number of transfers must be a digit, retry: \")\n",
    "\n",
    "# cast str to int\n",
    "transfers = int(transfers)\n",
    "\n",
    "# if input str is blank, value is 'n'\n",
    "refund = input(\"Is the ticket refundable? (y/n) (default 'n'): \").lower() or \"n\"\n",
    "\n",
    "# while it's not 'y' neither 'n' letter keep asking\n",
    "while refund.strip() not in {\"y\", \"n\"}:\n",
    "    refund = input(\"Please answer (y/n for yes/no): \").lower()\n",
    "\n",
    "# str 'y'/'n' for int 1/0 using yes_no dict\n",
    "refund = yes_no[refund]\n",
    "\n",
    "# same here with defaul value\n",
    "luggage = input(\"Ticket includes luggage? (y/n) (default 'n'): \").lower() or \"n\"\n",
    "while luggage.strip() not in {\"y\", \"n\"}:\n",
    "    luggage = input(\"Please answer (y/n for yes/no): \").lower()\n",
    "\n",
    "# y/n to 1/0\n",
    "luggage = yes_no[luggage]"
   ]
  },
  {
   "cell_type": "markdown",
   "metadata": {
    "id": "Jo2hmRL3maRI"
   },
   "source": [
    "Afterwards the parameters are processed though if-elif construction and the category being set upon the criteria above."
   ]
  },
  {
   "cell_type": "code",
   "execution_count": null,
   "metadata": {
    "colab": {
     "base_uri": "https://localhost:8080/"
    },
    "id": "R-YxK0K1nEwv",
    "outputId": "73f5b900-00fe-4720-84c1-e297f0b485f9"
   },
   "outputs": [
    {
     "name": "stdout",
     "output_type": "stream",
     "text": [
      "Ticket price: 199.99\n",
      "Number of transfers: 1\n",
      "Refund is allowed: YES\n",
      "Luggage included: YES\n"
     ]
    }
   ],
   "source": [
    "print(f'Ticket price: {price:.2f}')\n",
    "print(f'Number of transfers: {transfers}')\n",
    "print(f\"Refund is allowed: {str(refund).replace('1','YES').replace('0', 'NO')}\")\n",
    "print(f\"Luggage included: {str(luggage).replace('1','YES').replace('0', 'NO')}\")"
   ]
  },
  {
   "cell_type": "code",
   "execution_count": null,
   "metadata": {
    "colab": {
     "base_uri": "https://localhost:8080/"
    },
    "id": "XsKZpNv1mrXn",
    "outputId": "dc70cce0-8132-4fdf-cf3f-ffe0020bcdc0"
   },
   "outputs": [
    {
     "name": "stdout",
     "output_type": "stream",
     "text": [
      "\n",
      "The category of this flight is \"the best offer\"\n",
      "\n"
     ]
    }
   ],
   "source": [
    "flight_category = 0  # base case \"other\"\n",
    "if price < 200 and transfers <= 1 and refund and luggage:\n",
    "    flight_category = 1  # the best\n",
    "elif 200 <= price <= 250 and transfers <= 2:\n",
    "    flight_category = 2  # good enough\n",
    "elif price > 250 and transfers > 2:\n",
    "    flight_category = 3  # the worst\n",
    "\n",
    "print(f'\\nThe category of this flight is \"{categories[flight_category]}\"\\n')"
   ]
  },
  {
   "cell_type": "markdown",
   "metadata": {
    "id": "jxsK_jKKruOK"
   },
   "source": [
    "## Analysis"
   ]
  },
  {
   "cell_type": "markdown",
   "metadata": {
    "id": "AQRNloOWsUy7"
   },
   "source": [
    "Considered solution for the ticket aggregator indeed provide some simple classification based on strict criteria for a few offer types, three specified and one for the other cases, to be specific. It has its pros and cons, some of which are described below.\n",
    "\n",
    "Adavantages:\n",
    "\n",
    "*   Solution easy to use, develop and understand;\n",
    "*   Clear classification, based on straightforward parameters;\n",
    "*   Provides consice information about the offer;\n",
    "*   Includes important parameters such as price, luggage and refund policies;\n",
    "*   Classes have strict and fully specified measures\n",
    "\n",
    "Disadavantages:\n",
    "\n",
    "*   Aggregator limited only to four categories;\n",
    "*   The classification criteria may not be sufficient to capture all aspects of the offer;\n",
    "*   Other important parameters such as flight duration, airline reputation, etc. are not included;\n",
    "*   Classification rule may not be able to accurately categorize all flight offers, particularly those outside the specified price ranges.\n",
    "\n",
    "\n",
    "\n",
    "\n",
    "\n",
    "\n",
    "\n",
    "\n"
   ]
  },
  {
   "cell_type": "markdown",
   "metadata": {
    "id": "IgTDO6KT1TJU"
   },
   "source": [
    "### Alternative solution \n",
    "\n",
    "<p>Ticket aggregator of such implementation is hardly can be exact, but it still provides an example of how the simplest classification algorithms could work. My opinion there's a place for improvements. For example, the price ranges may be different due to inflation and currency exchange rates. Also some other parameters could be included in input for evaluations (e.g. flight duration). It's possible to add new flight offer categories such as the \"Cheapest\" (let's assume price < 150 and luggage and return policies don't matter), or the \"Fastest\" based on possibly added \"flight duration\" metric, or \"convenient\" with no transfers and \"best value\" for the price range with luggage and refund included.</p>\n",
    "\n",
    "<p>Also as for program code itself, the functions could be added and the refactoring can be provided.</p>\n",
    "\n",
    "<p>In any case, all those categories are meaningful only if we compare currently inspected offer to the significant amount of other different ones. So that's all just theoretical situation on the topic of how the specific solution could be improved.</p>\n",
    "\n",
    "<p>The best known professional decision is to add machine learning algorithms to the solution. But for this purpose first the one must accumulate a significant amount of different flight offers records, which include much more parameters than in user inputs in previous solution. Those records will provide data for a subsequent analysis, afterward the one can decide which parameters are important and which can be dropped. Thereafter, the chosen ML algorithm could be trained upon that data with supervised learning (if already known which offer categories corresponds to our records), or with unsupervised learning (if give the classification making to the algorithm). But this theme is a bit outside of the current task topic.</p>"
   ]
  },
  {
   "cell_type": "markdown",
   "metadata": {
    "id": "wOLdolnU7px8"
   },
   "source": [
    "Alternative solution could look something like this. A few changes has been made. It includes functions use for the repeated code parts. Completely new categorization for the flights offer. Such as \"*the cheapest*\", \"*the most convenient*\" and \"*the fastest*\" and \"*the best value*\". Also *duration* parameter being added. Criteria written below are based on theoretical situation in term of Moscow - New York flights from the task brief.\n",
    "\n",
    "The criteria for the new categories:\n",
    "\n",
    "*   \"**The cheapest**\". Ticket price less than \\$150, other parameters don't matter;\n",
    "*   \"**The most convenient**\". Price start from \\$150 and no more than \\$250, no transfers, any luggage and refund policies;\n",
    "*   \"**The fastest**\". Flight duration is 10 hours maximum, other parameters is not included, price doesn't matter;\n",
    "*   \"**The best value**\". No transfers, ticket price is below \\$300, luggage and refund options must be provided.\n",
    "\n",
    "As for *flight duration* parameter, the sanity of it is controlled by the user, it's still cannot be negative, but if it's zero let's assume this means we have no data on this. In program code when \"the fastest\" category being checked, the flight can't be less than 8 hours (for a flight Moscow to New York).\n",
    "\n"
   ]
  },
  {
   "cell_type": "code",
   "execution_count": 1,
   "metadata": {
    "colab": {
     "base_uri": "https://localhost:8080/"
    },
    "id": "ac5LonBj1SAE",
    "outputId": "92467c53-e944-4e4a-a03e-cfd2e4f92af0"
   },
   "outputs": [
    {
     "name": "stdout",
     "output_type": "stream",
     "text": [
      "\n",
      "---Ticket aggregator---\n",
      "Please input parameters to start the process\n",
      "\n",
      "Enter ticket price: 251.99\n",
      "Enter duration (hours): 9\n",
      "Enter the number of transfers (default = 0): 0\n",
      "Is refund available? (y/n) (default - no): n\n",
      "Is luggage available? (y/n) (default - no): n\n",
      "\n",
      "The category of this flight is \"the fastest\"\n",
      "\n"
     ]
    }
   ],
   "source": [
    "def process_input(offer_params):\n",
    "    offer_params[\"price\"] = check_float(\"ticket price\")\n",
    "    offer_params[\"duration\"] = check_float(\"duration (hours)\")\n",
    "    offer_params[\"transfers\"] = check_int(\"transfers\")\n",
    "    offer_params[\"refund\"] = check_yn(\"refund\")\n",
    "    offer_params[\"luggage\"] = check_yn(\"luggage\")\n",
    "\n",
    "\n",
    "def check_float(val_name):\n",
    "    while True:\n",
    "        try:\n",
    "            value = input(f\"Enter {val_name}: \")\n",
    "            value = float(value)\n",
    "            if value < 0:\n",
    "                print(f\"The {val_name} cannot be negative, retry please.\")\n",
    "            else:\n",
    "                break\n",
    "        except ValueError:\n",
    "            print(f\"{val_name.title()} must be a number, please retry\")\n",
    "    return value\n",
    "\n",
    "\n",
    "def check_yn(val_name):\n",
    "    value = input(f\"Is {val_name} available? (y/n) (default - no): \").lower() or \"n\"\n",
    "    while value.strip() not in {\"y\", \"n\"}:\n",
    "        value = input(\"Please answer (y/n for yes/no): \").lower()\n",
    "    value = int(value.replace(\"y\", \"1\").replace(\"n\", \"0\"))\n",
    "    return value\n",
    "\n",
    "\n",
    "def check_int(val_name):\n",
    "    value = input(f\"Enter the number of {val_name} (default = 0): \") or \"0\"\n",
    "    while not value.strip().isdigit():\n",
    "        value = input(f\"Number of {val_name} must be a digit, retry: \")\n",
    "    value = int(value)\n",
    "    return value\n",
    "\n",
    "\n",
    "def classify_offer(offer_params):\n",
    "    # categories mapping\n",
    "    categories = {\n",
    "        0: \"other\",\n",
    "        1: \"the cheapest\",\n",
    "        2: \"the most convenient\",\n",
    "        3: \"the fastest\",\n",
    "        4: \"the best value\",\n",
    "    }\n",
    "    flight_category = 0  # base case \"other\"\n",
    "    if offer_params[\"price\"] < 150:\n",
    "        flight_category = 1  # the cheapest\n",
    "    elif 150 <= offer_params[\"price\"] <= 250 and offer_params[\"transfers\"] == 0:\n",
    "        flight_category = 2  # the most convenient\n",
    "    elif 8 < offer_params[\"duration\"] <= 10:\n",
    "        flight_category = 3  # the fastest\n",
    "    elif (\n",
    "        offer_params[\"transfers\"] == 0\n",
    "        and offer_params[\"price\"] < 300\n",
    "        and offer_params[\"refund\"]\n",
    "        and offer_params[\"luggage\"]\n",
    "    ):\n",
    "        flight_category = 4  # the best value\n",
    "\n",
    "    print(f'\\nThe category of this flight is \"{categories[flight_category]}\"\\n')\n",
    "\n",
    "\n",
    "if __name__ == \"__main__\":\n",
    "    params = {\"price\": 0, \"duration\": 0, \"transfers\": 0, \"refund\": 0, \"luggage\": 0}\n",
    "    print(\"\\n---Ticket aggregator---\")\n",
    "    print(\"Please input parameters to start the process\\n\")\n",
    "\n",
    "    process_input(params)\n",
    "    classify_offer(params)\n"
   ]
  },
  {
   "cell_type": "markdown",
   "metadata": {
    "id": "2_abp9y_tAca"
   },
   "source": [
    "### Conclusion\n",
    "\n",
    "<p>Other possible solution could include scikit-learn library and some machine learning algorithms from it for the multi-label classification or keras/tensorflow solutions. However, to be able to use considered tools there is must be prepared dataset with the parameters (such as price, duration, policies and transfers). In terms of the provided task it's not possible to fully complete the machine learning solution correct way. That's why I decided not to include that improvement in my alternative ticket aggregator implementation. </p>\n",
    "\n",
    "<p>Still the example illustrates the use of functions, if-elif conditions and provides proper user input checking. It's still has some flows and could be re-made once more. The main problem here, that's all the criteria in the task and those which I proposed, are all extremely subjective. They are not based on the research or data analysis, and seems quite theoretical. Therefore, making a correct ticket aggregator is non-easy task, which takes lot's of effort, including data accumulation or extraction, exploration, processing and afterwards using it either way for proper classification.</p>"
   ]
  }
 ],
 "metadata": {
  "colab": {
   "provenance": []
  },
  "kernelspec": {
   "display_name": "Python 3 (ipykernel)",
   "language": "python",
   "name": "python3"
  },
  "language_info": {
   "codemirror_mode": {
    "name": "ipython",
    "version": 3
   },
   "file_extension": ".py",
   "mimetype": "text/x-python",
   "name": "python",
   "nbconvert_exporter": "python",
   "pygments_lexer": "ipython3",
   "version": "3.9.16"
  }
 },
 "nbformat": 4,
 "nbformat_minor": 1
}
